{
  "nbformat": 4,
  "nbformat_minor": 0,
  "metadata": {
    "colab": {
      "name": "pytorch4.ipynb",
      "provenance": [],
      "authorship_tag": "ABX9TyMYLjbD8Xcj4FVWK/KI2mk4",
      "include_colab_link": true
    },
    "kernelspec": {
      "name": "python3",
      "display_name": "Python 3"
    },
    "language_info": {
      "name": "python"
    }
  },
  "cells": [
    {
      "cell_type": "markdown",
      "metadata": {
        "id": "view-in-github",
        "colab_type": "text"
      },
      "source": [
        "<a href=\"https://colab.research.google.com/github/Sasaki0Kojiro/hello-world/blob/main/pytorch4.ipynb\" target=\"_parent\"><img src=\"https://colab.research.google.com/assets/colab-badge.svg\" alt=\"Open In Colab\"/></a>"
      ]
    },
    {
      "cell_type": "code",
      "metadata": {
        "id": "iUh2SHLdhN31"
      },
      "source": [
        "%matplotlib inline"
      ],
      "execution_count": 16,
      "outputs": []
    },
    {
      "cell_type": "code",
      "metadata": {
        "id": "pEfeLGawhWuY"
      },
      "source": [
        "import os\n",
        "import torch\n",
        "from torch import nn\n",
        "from torch.utils.data import DataLoader\n",
        "from torchvision import datasets,transforms"
      ],
      "execution_count": 17,
      "outputs": []
    },
    {
      "cell_type": "code",
      "metadata": {
        "colab": {
          "base_uri": "https://localhost:8080/"
        },
        "id": "_pJQuB9dh0qv",
        "outputId": "814e3076-0811-4991-d6f1-d209371b3af4"
      },
      "source": [
        "device = 'cuda' if torch.cuda.is_available()else'cpu'\n",
        "print('Using {} device'.format(device))"
      ],
      "execution_count": 18,
      "outputs": [
        {
          "output_type": "stream",
          "text": [
            "Using cpu device\n"
          ],
          "name": "stdout"
        }
      ]
    },
    {
      "cell_type": "code",
      "metadata": {
        "id": "Je6TWB4JiI8W"
      },
      "source": [
        "class NeuralNetwork(nn.Module):\n",
        "  def __init__(self):\n",
        "    super(NeuralNetwork, self).__init__()\n",
        "    self.flatten = nn.Flatten()\n",
        "    self.linear_relu_stack = nn.Sequential(\n",
        "        nn.Linear(28*28,512),\n",
        "        nn.ReLU(),\n",
        "        nn.Linear(512,512),\n",
        "        nn.ReLU(),\n",
        "        nn.Linear(512,10),\n",
        "        nn.ReLU()\n",
        "    )\n",
        "\n",
        "  def forward(self, x):\n",
        "    x = self.flatten(x)\n",
        "    logits = self.linear_relu_stack(x)\n",
        "    return logits"
      ],
      "execution_count": 30,
      "outputs": []
    },
    {
      "cell_type": "code",
      "metadata": {
        "colab": {
          "base_uri": "https://localhost:8080/"
        },
        "id": "HyqXkCZVl3RR",
        "outputId": "d515a56a-e29c-4643-abd1-92303bebbdaa"
      },
      "source": [
        "model = NeuralNetwork().to(device)\n",
        "print(model)"
      ],
      "execution_count": 31,
      "outputs": [
        {
          "output_type": "stream",
          "text": [
            "NeuralNetwork(\n",
            "  (flatten): Flatten(start_dim=1, end_dim=-1)\n",
            "  (linear_relu_stack): Sequential(\n",
            "    (0): Linear(in_features=784, out_features=512, bias=True)\n",
            "    (1): ReLU()\n",
            "    (2): Linear(in_features=512, out_features=512, bias=True)\n",
            "    (3): ReLU()\n",
            "    (4): Linear(in_features=512, out_features=10, bias=True)\n",
            "    (5): ReLU()\n",
            "  )\n",
            ")\n"
          ],
          "name": "stdout"
        }
      ]
    },
    {
      "cell_type": "code",
      "metadata": {
        "colab": {
          "base_uri": "https://localhost:8080/"
        },
        "id": "FCX44CsUmCer",
        "outputId": "e676bc70-8cb4-48ac-e6e9-ca2e379805c9"
      },
      "source": [
        "X = torch.rand(1,28,28,device = device)\n",
        "logits = model(X)\n",
        "pred_probab = nn.Softmax(dim=1)(logits)\n",
        "y_pred=pred_probab.argmax(1)\n",
        "print(f\"Predicted class:{y_pred}\")\n",
        "\n"
      ],
      "execution_count": 32,
      "outputs": [
        {
          "output_type": "stream",
          "text": [
            "Predicted class:tensor([8])\n"
          ],
          "name": "stdout"
        }
      ]
    },
    {
      "cell_type": "code",
      "metadata": {
        "colab": {
          "base_uri": "https://localhost:8080/"
        },
        "id": "CL1-6Uy_rWhE",
        "outputId": "1f0205a1-1822-4fc0-95a5-899a2cc54669"
      },
      "source": [
        "input_image = torch.rand(3,28,28)\n",
        "print(input_image)"
      ],
      "execution_count": 34,
      "outputs": [
        {
          "output_type": "stream",
          "text": [
            "tensor([[[0.3412, 0.8442, 0.2987,  ..., 0.1888, 0.7179, 0.6700],\n",
            "         [0.9474, 0.5081, 0.0092,  ..., 0.3686, 0.9471, 0.8417],\n",
            "         [0.6108, 0.0328, 0.1190,  ..., 0.3942, 0.9189, 0.1396],\n",
            "         ...,\n",
            "         [0.0341, 0.9831, 0.7758,  ..., 0.6056, 0.0052, 0.1268],\n",
            "         [0.8652, 0.0892, 0.9436,  ..., 0.9454, 0.6102, 0.1556],\n",
            "         [0.2983, 0.9355, 0.1571,  ..., 0.0812, 0.9561, 0.0848]],\n",
            "\n",
            "        [[0.4962, 0.4981, 0.5328,  ..., 0.4426, 0.8973, 0.5338],\n",
            "         [0.4495, 0.4553, 0.9009,  ..., 0.5976, 0.6367, 0.3462],\n",
            "         [0.7132, 0.8508, 0.0426,  ..., 0.3264, 0.9017, 0.0733],\n",
            "         ...,\n",
            "         [0.2096, 0.1961, 0.7300,  ..., 0.7927, 0.9600, 0.1769],\n",
            "         [0.8778, 0.3678, 0.0064,  ..., 0.8809, 0.1111, 0.6821],\n",
            "         [0.6052, 0.2904, 0.0195,  ..., 0.5850, 0.9402, 0.4296]],\n",
            "\n",
            "        [[0.8426, 0.4198, 0.3348,  ..., 0.1896, 0.3708, 0.1780],\n",
            "         [0.5940, 0.2936, 0.4438,  ..., 0.5734, 0.5095, 0.5299],\n",
            "         [0.5398, 0.1895, 0.2175,  ..., 0.5793, 0.3800, 0.0092],\n",
            "         ...,\n",
            "         [0.8516, 0.0303, 0.4694,  ..., 0.6364, 0.3899, 0.6045],\n",
            "         [0.0225, 0.0919, 0.9031,  ..., 0.7719, 0.5534, 0.1695],\n",
            "         [0.0303, 0.7190, 0.2048,  ..., 0.0732, 0.8343, 0.4759]]])\n"
          ],
          "name": "stdout"
        }
      ]
    },
    {
      "cell_type": "code",
      "metadata": {
        "colab": {
          "base_uri": "https://localhost:8080/"
        },
        "id": "v3xZTSCosu4J",
        "outputId": "81750f6b-881d-4cbe-9eed-c7b2e7fda319"
      },
      "source": [
        "flatten = nn.Flatten()\n",
        "flat_image=flatten(input_image)\n",
        "print(flat_image.size())\n",
        "print(flat_image)"
      ],
      "execution_count": 36,
      "outputs": [
        {
          "output_type": "stream",
          "text": [
            "torch.Size([3, 784])\n",
            "tensor([[0.3412, 0.8442, 0.2987,  ..., 0.0812, 0.9561, 0.0848],\n",
            "        [0.4962, 0.4981, 0.5328,  ..., 0.5850, 0.9402, 0.4296],\n",
            "        [0.8426, 0.4198, 0.3348,  ..., 0.0732, 0.8343, 0.4759]])\n"
          ],
          "name": "stdout"
        }
      ]
    },
    {
      "cell_type": "code",
      "metadata": {
        "colab": {
          "base_uri": "https://localhost:8080/"
        },
        "id": "nJIz1KYFtEnj",
        "outputId": "1a609181-a80c-42c2-a1fd-1a13b63ce25c"
      },
      "source": [
        "layer1 = nn.Linear(in_features=28*28,out_features=20)\n",
        "hidden1 = layer1(flat_image)\n",
        "print(hidden1.size())"
      ],
      "execution_count": 37,
      "outputs": [
        {
          "output_type": "stream",
          "text": [
            "torch.Size([3, 20])\n"
          ],
          "name": "stdout"
        }
      ]
    },
    {
      "cell_type": "code",
      "metadata": {
        "colab": {
          "base_uri": "https://localhost:8080/"
        },
        "id": "tkUjqLIIttWL",
        "outputId": "a15f938e-bc9d-4457-b497-05d55f94a60a"
      },
      "source": [
        "print(f\"Before ReLU: {hidden1}\\n\\n\")\n",
        "hidden1 = nn.ReLU()(hidden1)\n",
        "print(f\"After ReLU:{hidden1}\")"
      ],
      "execution_count": 38,
      "outputs": [
        {
          "output_type": "stream",
          "text": [
            "Before ReLU: tensor([[ 0.0268,  1.0367, -0.5453, -0.3116, -0.2963,  0.2522,  0.7565, -0.6605,\n",
            "         -0.1613, -0.0574,  0.4071, -0.5005,  0.2096, -0.2105,  0.7152, -0.2126,\n",
            "          0.1355, -0.0523, -0.1977,  0.3425],\n",
            "        [-0.0580,  0.8071, -0.4442, -0.0641, -0.1277,  0.5022,  0.7076, -0.9596,\n",
            "         -0.0854, -0.0786,  0.0571,  0.1220, -0.0424, -0.0413,  0.0846, -0.1915,\n",
            "          0.1572,  0.3073, -0.0697,  0.3406],\n",
            "        [-0.0192,  0.8713, -0.1580, -0.0167,  0.0565,  0.5020,  0.5840, -0.8630,\n",
            "         -0.3071,  0.0262,  0.5094, -0.5266,  0.2332, -0.0394,  0.1977, -0.2593,\n",
            "         -0.0452,  0.1083, -0.1804,  0.2606]], grad_fn=<AddmmBackward>)\n",
            "\n",
            "\n",
            "After ReLU:tensor([[0.0268, 1.0367, 0.0000, 0.0000, 0.0000, 0.2522, 0.7565, 0.0000, 0.0000,\n",
            "         0.0000, 0.4071, 0.0000, 0.2096, 0.0000, 0.7152, 0.0000, 0.1355, 0.0000,\n",
            "         0.0000, 0.3425],\n",
            "        [0.0000, 0.8071, 0.0000, 0.0000, 0.0000, 0.5022, 0.7076, 0.0000, 0.0000,\n",
            "         0.0000, 0.0571, 0.1220, 0.0000, 0.0000, 0.0846, 0.0000, 0.1572, 0.3073,\n",
            "         0.0000, 0.3406],\n",
            "        [0.0000, 0.8713, 0.0000, 0.0000, 0.0565, 0.5020, 0.5840, 0.0000, 0.0000,\n",
            "         0.0262, 0.5094, 0.0000, 0.2332, 0.0000, 0.1977, 0.0000, 0.0000, 0.1083,\n",
            "         0.0000, 0.2606]], grad_fn=<ReluBackward0>)\n"
          ],
          "name": "stdout"
        }
      ]
    },
    {
      "cell_type": "code",
      "metadata": {
        "id": "_nO21jEXufZQ"
      },
      "source": [
        "seq_modules = nn.Sequential(\n",
        "    flatten,\n",
        "    layer1,\n",
        "    nn.ReLU(),\n",
        "    nn.Linear(20,10)\n",
        ")\n",
        "input_image = torch.rand(3,28,28)\n",
        "igits = seq_modules(input_image)"
      ],
      "execution_count": 40,
      "outputs": []
    },
    {
      "cell_type": "code",
      "metadata": {
        "id": "vBRHhcBSviqg"
      },
      "source": [
        "softmax = nn.Softmax(dim=1)\n",
        "pred_probab = softmax(logits)"
      ],
      "execution_count": 41,
      "outputs": []
    },
    {
      "cell_type": "code",
      "metadata": {
        "colab": {
          "base_uri": "https://localhost:8080/"
        },
        "id": "XfeYqaybwJaK",
        "outputId": "ecff1ee9-fb20-4e8c-f974-3385bb78aaf7"
      },
      "source": [
        "print(\"Model structure:\",model,\"\\n\\n\")\n",
        "\n",
        "for name,param in model.named_parameters():\n",
        "  print(f\"Layer: {name} | Size: {param.size()} | Values:{param[:2]}\\n\")"
      ],
      "execution_count": 42,
      "outputs": [
        {
          "output_type": "stream",
          "text": [
            "Model structure: NeuralNetwork(\n",
            "  (flatten): Flatten(start_dim=1, end_dim=-1)\n",
            "  (linear_relu_stack): Sequential(\n",
            "    (0): Linear(in_features=784, out_features=512, bias=True)\n",
            "    (1): ReLU()\n",
            "    (2): Linear(in_features=512, out_features=512, bias=True)\n",
            "    (3): ReLU()\n",
            "    (4): Linear(in_features=512, out_features=10, bias=True)\n",
            "    (5): ReLU()\n",
            "  )\n",
            ") \n",
            "\n",
            "\n",
            "Layer: linear_relu_stack.0.weight | Size: torch.Size([512, 784]) | Values:tensor([[ 0.0187,  0.0019,  0.0194,  ..., -0.0347, -0.0101,  0.0061],\n",
            "        [ 0.0229, -0.0088, -0.0170,  ...,  0.0005, -0.0275, -0.0029]],\n",
            "       grad_fn=<SliceBackward>)\n",
            "\n",
            "Layer: linear_relu_stack.0.bias | Size: torch.Size([512]) | Values:tensor([-0.0307, -0.0269], grad_fn=<SliceBackward>)\n",
            "\n",
            "Layer: linear_relu_stack.2.weight | Size: torch.Size([512, 512]) | Values:tensor([[-0.0328,  0.0218,  0.0310,  ..., -0.0282,  0.0297,  0.0008],\n",
            "        [-0.0292, -0.0065,  0.0246,  ..., -0.0295, -0.0004, -0.0036]],\n",
            "       grad_fn=<SliceBackward>)\n",
            "\n",
            "Layer: linear_relu_stack.2.bias | Size: torch.Size([512]) | Values:tensor([ 0.0003, -0.0327], grad_fn=<SliceBackward>)\n",
            "\n",
            "Layer: linear_relu_stack.4.weight | Size: torch.Size([10, 512]) | Values:tensor([[ 0.0311,  0.0107, -0.0315,  ...,  0.0112,  0.0394,  0.0306],\n",
            "        [ 0.0318, -0.0085, -0.0331,  ...,  0.0286,  0.0364, -0.0225]],\n",
            "       grad_fn=<SliceBackward>)\n",
            "\n",
            "Layer: linear_relu_stack.4.bias | Size: torch.Size([10]) | Values:tensor([-0.0283,  0.0332], grad_fn=<SliceBackward>)\n",
            "\n"
          ],
          "name": "stdout"
        }
      ]
    },
    {
      "cell_type": "code",
      "metadata": {
        "id": "5TvZuGVnw0mJ"
      },
      "source": [
        ""
      ],
      "execution_count": null,
      "outputs": []
    }
  ]
}