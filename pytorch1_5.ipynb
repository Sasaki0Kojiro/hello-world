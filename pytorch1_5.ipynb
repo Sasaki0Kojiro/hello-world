{
  "nbformat": 4,
  "nbformat_minor": 0,
  "metadata": {
    "colab": {
      "name": "pytorch1_5.ipynb",
      "provenance": [],
      "authorship_tag": "ABX9TyPrSj2uwZTRB9zNIvIgvwiG",
      "include_colab_link": true
    },
    "kernelspec": {
      "name": "python3",
      "display_name": "Python 3"
    },
    "language_info": {
      "name": "python"
    },
    "accelerator": "GPU"
  },
  "cells": [
    {
      "cell_type": "markdown",
      "metadata": {
        "id": "view-in-github",
        "colab_type": "text"
      },
      "source": [
        "<a href=\"https://colab.research.google.com/github/Sasaki0Kojiro/hello-world/blob/main/pytorch1_5.ipynb\" target=\"_parent\"><img src=\"https://colab.research.google.com/assets/colab-badge.svg\" alt=\"Open In Colab\"/></a>"
      ]
    },
    {
      "cell_type": "code",
      "metadata": {
        "colab": {
          "base_uri": "https://localhost:8080/"
        },
        "id": "HZtKcaYrYOqv",
        "outputId": "b0b4b7b3-49d3-4712-c2f8-26a08d5a77c8"
      },
      "source": [
        "import numpy as np\n",
        "\n",
        "N,D_in,H,D_out = 64,1000,100,10\n",
        "\n",
        "x = np.random.randn(N,D_in)\n",
        "y = np.random.randn(N,D_out)\n",
        "\n",
        "w1 = np.random.randn(D_in,H)\n",
        "w2 = np.random.randn(H,D_out)\n",
        "\n",
        "learning_rate = 1e-6\n",
        "for t in range(500):\n",
        "  h = x.dot(w1)\n",
        "  h_relu = np.maximum(h,0)\n",
        "  y_pred = h_relu.dot(w2)\n",
        "\n",
        "  loss = np.square(y_pred - y).sum()\n",
        "  if t%100 == 99:\n",
        "    print(t,loss)\n",
        "\n",
        "  grad_y_pred = 2.0 * (y_pred -y)\n",
        "  grad_w2 = h_relu.T.dot(grad_y_pred)\n",
        "  grad_h_relu = grad_y_pred.dot(w2.T)\n",
        "  grad_h = grad_h_relu.copy()\n",
        "  grad_h[h<0] = 0\n",
        "  grad_w1 = x.T.dot(grad_h)\n",
        "\n",
        "  w1 -= learning_rate * grad_w1\n",
        "  w2 -= learning_rate * grad_w2"
      ],
      "execution_count": 1,
      "outputs": [
        {
          "output_type": "stream",
          "text": [
            "99 614.9866900565057\n",
            "199 4.015607218946838\n",
            "299 0.04346431851052691\n",
            "399 0.0005854752562892208\n",
            "499 8.897009498990837e-06\n"
          ],
          "name": "stdout"
        }
      ]
    },
    {
      "cell_type": "code",
      "metadata": {
        "colab": {
          "base_uri": "https://localhost:8080/"
        },
        "id": "CD0w6enDaiKC",
        "outputId": "b1cc25f4-5932-49d7-82b9-b41dc3fe6661"
      },
      "source": [
        "w1_unlearned = np.random.randn(D_in,H)\n",
        "w2_unlearned = np.random.randn(H,D_out)\n",
        "\n",
        "h = x.dot(w1_unlearned)\n",
        "h_relu = np.maximum(h,0)\n",
        "y_pred = h_relu.dot(w2_unlearned)\n",
        "\n",
        "print(f\"学習能力:{np.round(y_pred[0],decimals=2)}\")\n",
        "\n",
        "h = x.dot(w1)\n",
        "h_relu = np.maximum(h,0)\n",
        "y_pred = h_relu.dot(w2)\n",
        "print(f\"学習後出力:{np.round(y_pred[0],decimals=2)}\")\n",
        "\n",
        "print(f\"目的の主力:{np.round(y[0],decimals=2)}\")"
      ],
      "execution_count": 2,
      "outputs": [
        {
          "output_type": "stream",
          "text": [
            "学習能力:[ 183.93   77.46  285.47  -65.16  187.69   31.24  249.5  -486.58   74.73\n",
            "   34.53]\n",
            "学習後出力:[-2.14 -0.59  0.5   0.97 -1.37  0.84  1.82  0.05  1.94 -1.03]\n",
            "目的の主力:[-2.14 -0.59  0.5   0.97 -1.37  0.84  1.82  0.05  1.94 -1.03]\n"
          ],
          "name": "stdout"
        }
      ]
    },
    {
      "cell_type": "code",
      "metadata": {
        "id": "tBlelUced-VC"
      },
      "source": [
        "import torch\n",
        "\n",
        "dtype = torch.float\n",
        "device = torch.device(\"cpu\")\n",
        "N,D_in,H,D_out = 64,1000,100,10\n",
        "\n",
        "x = torch.randn(N,D_in,device=device,dtype = dtype)\n",
        "y = torch.randn(N,D_out,device=device,dtype = dtype)\n",
        "\n",
        "w1 = torch.randn(D_in ,H, device=device,dtype=dtype)\n",
        "w2 = torch.randn(H,D_out,device=device,dtype=dtype)"
      ],
      "execution_count": 3,
      "outputs": []
    },
    {
      "cell_type": "code",
      "metadata": {
        "colab": {
          "base_uri": "https://localhost:8080/"
        },
        "id": "THJtpNPKfE0u",
        "outputId": "3e4c20f8-aa46-4c8b-fac2-380112d8958a"
      },
      "source": [
        "learning_rate = 1e-6\n",
        "for t in range(500):\n",
        "  h = x.mm(w1)\n",
        "  h_relu = h.clamp(min=0)\n",
        "  y_pred = h_relu.mm(w2)\n",
        "\n",
        "  loss = (y_pred - y).pow(2).sum().item()\n",
        "  if t % 100 == 99:\n",
        "    print(t,loss)\n",
        "  \n",
        "  grad_y_pred = 2.0 * (y_pred - y)\n",
        "  grad_w2 = h_relu.t().mm(grad_y_pred)\n",
        "  grad_h_relu = grad_y_pred.mm(w2.t())\n",
        "  grad_h = grad_h_relu.clone()\n",
        "  grad_h[h<0] = 0\n",
        "  grad_w1 = x.t().mm(grad_h)\n",
        "\n",
        "  w1 -= learning_rate * grad_w1\n",
        "  w2 -= learning_rate * grad_w2"
      ],
      "execution_count": 4,
      "outputs": [
        {
          "output_type": "stream",
          "text": [
            "99 390.0259094238281\n",
            "199 0.9371556639671326\n",
            "299 0.0035687668714672327\n",
            "399 0.00010009153629653156\n",
            "499 2.154137473553419e-05\n"
          ],
          "name": "stdout"
        }
      ]
    },
    {
      "cell_type": "code",
      "metadata": {
        "colab": {
          "base_uri": "https://localhost:8080/"
        },
        "id": "UGMhFgGtglpY",
        "outputId": "af14e59c-6796-4d00-b029-25db3ffaa770"
      },
      "source": [
        "import torch\n",
        "\n",
        "dtype = torch.float\n",
        "device = torch.device(\"cpu\")\n",
        "\n",
        "N,D_in,H,D_out = 64,1000,100,10\n",
        "\n",
        "x = torch.randn(N,D_in, device=device,dtype=dtype,requires_grad=True)\n",
        "y = torch.randn(N,D_out, device=device,dtype=dtype,requires_grad=True)\n",
        "\n",
        "w1 = torch.randn(D_in, H , device = device,dtype = dtype,requires_grad=True)\n",
        "w2 = torch.randn(H,D_out,device = device,dtype = dtype,requires_grad=True)\n",
        "\n",
        "learning_rate = 1e-6\n",
        "for t in range(500):\n",
        "  # 順伝播\n",
        "  y_pred = x.mm(w1).clamp(min=0).mm(w2)\n",
        "\n",
        "  # 損失の計算と表示\n",
        "  loss = (y_pred - y).pow(2).sum()\n",
        "  if t % 100 == 99:\n",
        "    print(t,loss.item())\n",
        "  # 逆伝播\n",
        "  loss.backward()\n",
        "  # 確率的勾配降下法\n",
        "  with torch.no_grad():\n",
        "    w1 -= learning_rate * w1.grad\n",
        "    w2 -= learning_rate * w2.grad\n",
        "    # 手動で勾配0\n",
        "    w1.grad.zero_()\n",
        "    w2.grad.zero_()"
      ],
      "execution_count": 9,
      "outputs": [
        {
          "output_type": "stream",
          "text": [
            "99 359.0576171875\n",
            "199 1.4028332233428955\n",
            "299 0.011139712296426296\n",
            "399 0.0003039742005057633\n",
            "499 5.01127251482103e-05\n"
          ],
          "name": "stdout"
        }
      ]
    },
    {
      "cell_type": "code",
      "metadata": {
        "id": "CNRIl4PkpiRh"
      },
      "source": [
        "import torch"
      ],
      "execution_count": 10,
      "outputs": []
    },
    {
      "cell_type": "code",
      "metadata": {
        "id": "XbxYmz1ascdp"
      },
      "source": [
        "class MyReLU(torch.autograd.Function):\n",
        "  @staticmethod\n",
        "\n",
        "  def forward(ctx,input):\n",
        "    ctx.save_for_backward(input)\n",
        "    return input.clamp(min = 0)\n",
        "\n",
        "  @staticmethod\n",
        "\n",
        "  def backward(ctx,grad_output):\n",
        "    input, = ctx.saved_tensors\n",
        "    grad_input = grad_output.clone()\n",
        "    grad_input[input < 0 ] = 0\n",
        "    return grad_input"
      ],
      "execution_count": 11,
      "outputs": []
    },
    {
      "cell_type": "code",
      "metadata": {
        "colab": {
          "base_uri": "https://localhost:8080/"
        },
        "id": "nVOAjCkluH85",
        "outputId": "ac65480f-ed9e-4b05-816e-50b2a86a9b71"
      },
      "source": [
        "dtype = torch.float\n",
        "device = torch.device(\"cpu\")\n",
        "\n",
        "N,D_in,H,D_out = 64,1000,100,10\n",
        "# 乱数により入力データと目標となる出力データを表すTensorを生成\n",
        "x = torch.randn(N, D_in, device=device, dtype=dtype)\n",
        "y = torch.randn(N, D_out, device=device, dtype=dtype)\n",
        "\n",
        "# 乱数による重みを表すTensorの定義\n",
        "w1 = torch.randn(D_in, H, device=device, dtype=dtype, requires_grad=True)\n",
        "w2 = torch.randn(H, D_out, device=device, dtype=dtype, requires_grad=True)\n",
        "\n",
        "learning_rate = 1e-6\n",
        "\n",
        "for t in range(500):\n",
        "  #関数を適用するためにapplyメソッドをつかう\n",
        "  relu = MyReLU.apply\n",
        "\n",
        "  #順伝播\n",
        "  y_pred = relu(x.mm(w1)).mm(w2)\n",
        "\n",
        "  #損失\n",
        "  loss = (y_pred - y).pow(2).sum()\n",
        "  if t % 100 == 99:\n",
        "    print(t,loss.item())\n",
        "  \n",
        "  #逆伝播\n",
        "  loss.backward()\n",
        "\n",
        "  #確率的勾配降下法\n",
        "  with torch.no_grad():\n",
        "    w1 -= learning_rate * w1.grad\n",
        "    w2 -= learning_rate * w2.grad\n",
        "\n",
        "    w1.grad.zero_()\n",
        "    w2.grad.zero_()"
      ],
      "execution_count": 12,
      "outputs": [
        {
          "output_type": "stream",
          "text": [
            "99 615.6991577148438\n",
            "199 2.9851415157318115\n",
            "299 0.025481903925538063\n",
            "399 0.0004939058562740684\n",
            "499 6.01283936703112e-05\n"
          ],
          "name": "stdout"
        }
      ]
    },
    {
      "cell_type": "code",
      "metadata": {
        "colab": {
          "base_uri": "https://localhost:8080/"
        },
        "id": "_pYmLBodZNj-",
        "outputId": "869ba0d0-0377-4dd0-d6d9-a2d78fb89925"
      },
      "source": [
        "import torch\n",
        "\n",
        "N,D_in,H,D_out = 64,1000,100,10\n",
        "\n",
        "x = torch.randn(N,D_in)\n",
        "y = torch.randn(N,D_out)\n",
        "\n",
        "model = torch.nn.Sequential(\n",
        "    torch.nn.Linear(D_in,H),\n",
        "    torch.nn.ReLU(),\n",
        "    torch.nn.Linear(H,D_out),\n",
        ")\n",
        "\n",
        "loss_fn = torch.nn.MSELoss(reduction='sum')\n",
        "\n",
        "learning_rate = 1e-4\n",
        "for t in range(500):\n",
        "  y_pred = model(x)\n",
        "\n",
        "  loss = loss_fn(y_pred,y)\n",
        "  if t%100 == 99:\n",
        "    print(t,loss.item())\n",
        "  \n",
        "  model.zero_grad()\n",
        "\n",
        "  loss.backward()\n",
        "\n",
        "  with torch.no_grad():\n",
        "    for param in model.parameters():\n",
        "      param -= learning_rate * param.grad"
      ],
      "execution_count": 14,
      "outputs": [
        {
          "output_type": "stream",
          "text": [
            "99 2.1372592449188232\n",
            "199 0.027679575607180595\n",
            "299 0.0006906291819177568\n",
            "399 2.116992800438311e-05\n",
            "499 7.147733640522347e-07\n"
          ],
          "name": "stdout"
        }
      ]
    },
    {
      "cell_type": "code",
      "metadata": {
        "colab": {
          "base_uri": "https://localhost:8080/"
        },
        "id": "SLjzHq4lcWMI",
        "outputId": "260c09e7-a696-4112-c18f-3ef22493d5a4"
      },
      "source": [
        "import torch\n",
        "\n",
        "N,D_in,H,D_out = 64,1000,100,10\n",
        "\n",
        "x = torch.randn(N,D_in)\n",
        "y = torch.randn(N,D_out)\n",
        "\n",
        "model = torch.nn.Sequential(\n",
        "    torch.nn.Linear(D_in,H),\n",
        "    torch.nn.ReLU(),\n",
        "    torch.nn.Linear(H,D_out),\n",
        ")\n",
        "\n",
        "loss_fn = torch.nn.MSELoss(reduction='sum')\n",
        "learning_rate = 1e-4\n",
        "optimizer = torch.optim.Adam(model.parameters(),lr = learning_rate)\n",
        "\n",
        "for t in range(500):\n",
        "  y_pred = model(x)\n",
        "\n",
        "  loss = loss_fn(y_pred,y)\n",
        "  if t%100 == 99:\n",
        "    print(t,loss.item())\n",
        "  \n",
        "  optimizer.zero_grad()\n",
        "\n",
        "  loss.backward()\n",
        "\n",
        "  optimizer.step()"
      ],
      "execution_count": 15,
      "outputs": [
        {
          "output_type": "stream",
          "text": [
            "99 47.25872039794922\n",
            "199 1.0742422342300415\n",
            "299 0.019621217623353004\n",
            "399 0.00024726358242332935\n",
            "499 1.3597938277598587e-06\n"
          ],
          "name": "stdout"
        }
      ]
    },
    {
      "cell_type": "code",
      "metadata": {
        "colab": {
          "base_uri": "https://localhost:8080/"
        },
        "id": "Q6YL9WmaddF_",
        "outputId": "16caadad-bd36-4295-a4bc-81e91d6fba8c"
      },
      "source": [
        "class TwoLayerNet(torch.nn.Module):\n",
        "  def __init__(self,D_in,H,D_out):\n",
        "    super(TwoLayerNet,self).__init__()\n",
        "    self.linear1=torch.nn.Linear(D_in,H)\n",
        "    self.linear2=torch.nn.Linear(H,D_out)\n",
        "  def forward(self,x):\n",
        "    h_relu = self.linear1(x).clamp(min=0)\n",
        "    y_pred = self.linear2(h_relu)\n",
        "    return y_pred\n",
        "\n",
        "N,D_in,H,D_out = 64,1000,100,10\n",
        "\n",
        "x = torch.randn(N,D_in)\n",
        "y = torch.randn(N,D_out)\n",
        "\n",
        "model = TwoLayerNet(D_in,H,D_out)\n",
        "\n",
        "criterion = torch.nn.MSELoss(reduction='sum')\n",
        "optimizer = torch.optim.SGD(model.parameters(),lr=1e-4)\n",
        "for t in range(500):\n",
        "  y_pred = model(x)\n",
        "\n",
        "  loss = criterion(y_pred,y)\n",
        "  if t % 100 == 99:\n",
        "    print(t,loss.item())\n",
        "  \n",
        "  optimizer.zero_grad()\n",
        "  loss.backward()\n",
        "  optimizer.step()"
      ],
      "execution_count": 19,
      "outputs": [
        {
          "output_type": "stream",
          "text": [
            "99 3.038952112197876\n",
            "199 0.06008504331111908\n",
            "299 0.0028584206011146307\n",
            "399 0.00020964082796126604\n",
            "499 1.8087050193571486e-05\n"
          ],
          "name": "stdout"
        }
      ]
    },
    {
      "cell_type": "code",
      "metadata": {
        "id": "a2cozaIWkKko"
      },
      "source": [
        ""
      ],
      "execution_count": null,
      "outputs": []
    }
  ]
}