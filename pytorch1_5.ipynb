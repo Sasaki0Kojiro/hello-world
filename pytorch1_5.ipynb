{
  "nbformat": 4,
  "nbformat_minor": 0,
  "metadata": {
    "colab": {
      "name": "pytorch1_5.ipynb",
      "provenance": [],
      "authorship_tag": "ABX9TyNBbNK9bKOUHEpOavxamRan",
      "include_colab_link": true
    },
    "kernelspec": {
      "name": "python3",
      "display_name": "Python 3"
    },
    "language_info": {
      "name": "python"
    },
    "accelerator": "GPU"
  },
  "cells": [
    {
      "cell_type": "markdown",
      "metadata": {
        "id": "view-in-github",
        "colab_type": "text"
      },
      "source": [
        "<a href=\"https://colab.research.google.com/github/Sasaki0Kojiro/hello-world/blob/main/pytorch1_5.ipynb\" target=\"_parent\"><img src=\"https://colab.research.google.com/assets/colab-badge.svg\" alt=\"Open In Colab\"/></a>"
      ]
    },
    {
      "cell_type": "code",
      "metadata": {
        "colab": {
          "base_uri": "https://localhost:8080/"
        },
        "id": "HZtKcaYrYOqv",
        "outputId": "51a9aac7-d7a8-4586-ab54-378c9d5223a3"
      },
      "source": [
        "import numpy as np\n",
        "\n",
        "N,D_in,H,D_out = 64,1000,100,10\n",
        "\n",
        "x = np.random.randn(N,D_in)\n",
        "y = np.random.randn(N,D_out)\n",
        "\n",
        "w1 = np.random.randn(D_in,H)\n",
        "w2 = np.random.randn(H,D_out)\n",
        "\n",
        "learning_rate = 1e-6\n",
        "for t in range(500):\n",
        "  h = x.dot(w1)\n",
        "  h_relu = np.maximum(h,0)\n",
        "  y_pred = h_relu.dot(w2)\n",
        "\n",
        "  loss = np.square(y_pred - y).sum()\n",
        "  if t%100 == 99:\n",
        "    print(t,loss)\n",
        "\n",
        "  grad_y_pred = 2.0 * (y_pred -y)\n",
        "  grad_w2 = h_relu.T.dot(grad_y_pred)\n",
        "  grad_h_relu = grad_y_pred.dot(w2.T)\n",
        "  grad_h = grad_h_relu.copy()\n",
        "  grad_h[h<0] = 0\n",
        "  grad_w1 = x.T.dot(grad_h)\n",
        "\n",
        "  w1 -= learning_rate * grad_w1\n",
        "  w2 -= learning_rate * grad_w2"
      ],
      "execution_count": 1,
      "outputs": [
        {
          "output_type": "stream",
          "text": [
            "99 679.9954044737376\n",
            "199 5.905443712217223\n",
            "299 0.11146833332255832\n",
            "399 0.002709914912168784\n",
            "499 7.550746009935352e-05\n"
          ],
          "name": "stdout"
        }
      ]
    },
    {
      "cell_type": "code",
      "metadata": {
        "colab": {
          "base_uri": "https://localhost:8080/"
        },
        "id": "CD0w6enDaiKC",
        "outputId": "15b34c9c-1dc8-413f-fc4d-d778c7e6ac8e"
      },
      "source": [
        "w1_unlearned = np.random.randn(D_in,H)\n",
        "w2_unlearned = np.random.randn(H,D_out)\n",
        "\n",
        "h = x.dot(w1_unlearned)\n",
        "h_relu = np.maximum(h,0)\n",
        "y_pred = h_relu.dot(w2_unlearned)\n",
        "\n",
        "print(f\"学習能力:{np.round(y_pred[0],decimals=2)}\")\n",
        "\n",
        "h = x.dot(w1)\n",
        "h_relu = np.maximum(h,0)\n",
        "y_pred = h_relu.dot(w2)\n",
        "print(f\"学習後出力:{np.round(y_pred[0],decimals=2)}\")\n",
        "\n",
        "print(f\"目的の主力:{np.round(y[0],decimals=2)}\")"
      ],
      "execution_count": 3,
      "outputs": [
        {
          "output_type": "stream",
          "text": [
            "学習能力:[ -14.27  381.42  333.79   34.87 -245.5    56.36 -259.05 -230.05 -214.99\n",
            "   59.33]\n",
            "学習後出力:[-1.29 -1.83  0.3  -0.07 -0.37  0.66 -1.17 -0.77  0.04 -0.03]\n",
            "目的の主力:[-1.29 -1.83  0.3  -0.07 -0.37  0.66 -1.17 -0.77  0.04 -0.03]\n"
          ],
          "name": "stdout"
        }
      ]
    },
    {
      "cell_type": "code",
      "metadata": {
        "id": "tBlelUced-VC"
      },
      "source": [
        "import torch\n",
        "\n",
        "dtype = torch.float\n",
        "device = torch.device(\"cpu\")\n",
        "N,D_in,H,D_out = 64,1000,100,10\n",
        "\n",
        "x = torch.randn(N,D_in,device=device,dtype = dtype)\n",
        "y = torch.randn(N,D_out,device=device,dtype = dtype)\n",
        "\n",
        "w1 = torch.randn(D_in ,H, device=device,dtype=dtype)\n",
        "w2 = torch.randn(H,D_out,device=device,dtype=dtype)"
      ],
      "execution_count": 8,
      "outputs": []
    },
    {
      "cell_type": "code",
      "metadata": {
        "colab": {
          "base_uri": "https://localhost:8080/"
        },
        "id": "THJtpNPKfE0u",
        "outputId": "c454b397-89b7-49ba-f1d3-d6da4aacd273"
      },
      "source": [
        "learning_rate = 1e-6\n",
        "for t in range(500):\n",
        "  h = x.mm(w1)\n",
        "  h_relu = h.clamp(min=0)\n",
        "  y_pred = h_relu.mm(w2)\n",
        "\n",
        "  loss = (y_pred - y).pow(2).sum().item()\n",
        "  if t % 100 == 99:\n",
        "    print(t,loss)\n",
        "  \n",
        "  grad_y_pred = 2.0 * (y_pred - y)\n",
        "  grad_w2 = h_relu.t().mm(grad_y_pred)\n",
        "  grad_h_relu = grad_y_pred.mm(w2.t())\n",
        "  grad_h = grad_h_relu.clone()\n",
        "  grad_h[h<0] = 0\n",
        "  grad_w1 = x.t().mm(grad_h)\n",
        "\n",
        "  w1 -= learning_rate * grad_w1\n",
        "  w2 -= learning_rate * grad_w2"
      ],
      "execution_count": 9,
      "outputs": [
        {
          "output_type": "stream",
          "text": [
            "99 327.82122802734375\n",
            "199 1.308321237564087\n",
            "299 0.009671855717897415\n",
            "399 0.00022688652097713202\n",
            "499 3.5402867069933563e-05\n"
          ],
          "name": "stdout"
        }
      ]
    },
    {
      "cell_type": "code",
      "metadata": {
        "colab": {
          "base_uri": "https://localhost:8080/"
        },
        "id": "UGMhFgGtglpY",
        "outputId": "8a04a131-b986-45d5-ce89-bab49562a939"
      },
      "source": [
        "import torch\n",
        "\n",
        "dtype = torch.float\n",
        "device = torch.device(\"cpu\")\n",
        "\n",
        "N,D_in,H,D_out = 64,1000,100,10\n",
        "\n",
        "x = torch.randn(N,D_in, device=device,dtype=dtype,requires_grad=True)\n",
        "y = torch.randn(N,D_out, device=device,dtype=dtype,requires_grad=True)\n",
        "\n",
        "w1 = torch.randn(D_in, H , device = device,dtype = dtype,requires_grad=True)\n",
        "w2 = torch.randn(H,D_out,device = device,dtype = dtype,requires_grad=True)\n",
        "\n",
        "learning_rate = 1e-6\n",
        "for t in range(500):\n",
        "  #順伝播\n",
        "  y_pred = x.mm(w1).clamp(min=0).mm(w2)\n",
        "\n",
        "  #損失の計算と表示\n",
        "  loss = (y_pred - y).pow(2).sum()\n",
        "  if t % 100 == 99:\n",
        "    print(t,loss.item())\n",
        "  #逆伝播\n",
        "  loss.backward()\n",
        "\n",
        "　#確率的勾配降下法\n",
        "  with torch.no_grad():\n",
        "    w1 -= learning_rate * w1.grad\n",
        "    w2 -= learning_rate * w2.grad\n",
        "    #手動で勾配0\n",
        "    w1.grad.zero_()\n",
        "    w2.grad.zero_()"
      ],
      "execution_count": 12,
      "outputs": [
        {
          "output_type": "stream",
          "text": [
            "99 654.0030517578125\n",
            "199 5.085948467254639\n",
            "299 0.0664990246295929\n",
            "399 0.0014155146200209856\n",
            "499 0.00013018395111430436\n"
          ],
          "name": "stdout"
        }
      ]
    },
    {
      "cell_type": "code",
      "metadata": {
        "id": "CNRIl4PkpiRh"
      },
      "source": [
        "import torch"
      ],
      "execution_count": 13,
      "outputs": []
    },
    {
      "cell_type": "code",
      "metadata": {
        "id": "XbxYmz1ascdp"
      },
      "source": [
        "class MyReLU(torch.autograd.Function):\n",
        "  @staticmethod\n",
        "\n",
        "  def forward(ctx,input):\n",
        "    ctx.save_for_backward(input)\n",
        "    return input.clamp(min = 0)\n",
        "\n",
        "  @staticmethod\n",
        "\n",
        "  def backward(ctx,grad_output):\n",
        "    input, = ctx.saved_tensors\n",
        "    grad_input = grad_output.clone()\n",
        "    grad_input[input < 0 ] = 0\n",
        "    return grad_input"
      ],
      "execution_count": 14,
      "outputs": []
    },
    {
      "cell_type": "code",
      "metadata": {
        "colab": {
          "base_uri": "https://localhost:8080/"
        },
        "id": "nVOAjCkluH85",
        "outputId": "9b1caafd-6130-461b-ae23-ebb18985107c"
      },
      "source": [
        "dtype = torch.float\n",
        "device = torch.device(\"cpu\")\n",
        "\n",
        "N,D_in,H,D_out = 64,1000,100,10\n",
        "# 乱数により入力データと目標となる出力データを表すTensorを生成\n",
        "x = torch.randn(N, D_in, device=device, dtype=dtype)\n",
        "y = torch.randn(N, D_out, device=device, dtype=dtype)\n",
        "\n",
        "# 乱数による重みを表すTensorの定義\n",
        "w1 = torch.randn(D_in, H, device=device, dtype=dtype, requires_grad=True)\n",
        "w2 = torch.randn(H, D_out, device=device, dtype=dtype, requires_grad=True)\n",
        "\n",
        "learning_rate = 1e-6\n",
        "\n",
        "for t in range(500):\n",
        "  #関数を適用するためにapplyメソッドをつかう\n",
        "  relu = MyReLU.apply\n",
        "\n",
        "  #順伝播\n",
        "  y_pred = relu(x.mm(w1)).mm(w2)\n",
        "\n",
        "  #損失\n",
        "  loss = (y_pred - y).pow(2).sum()\n",
        "  if t % 100 == 99:\n",
        "    print(t,loss.item())\n",
        "  \n",
        "  #逆伝播\n",
        "  loss.backward()\n",
        "\n",
        "  #確率的勾配降下法\n",
        "  with torch.no_grad():\n",
        "    w1 -= learning_rate * w1.grad\n",
        "    w2 -= learning_rate * w2.grad\n",
        "\n",
        "    w1.grad.zero_()\n",
        "    w2.grad.zero_()"
      ],
      "execution_count": 15,
      "outputs": [
        {
          "output_type": "stream",
          "text": [
            "99 488.1488952636719\n",
            "199 2.781280279159546\n",
            "299 0.024670353159308434\n",
            "399 0.0004776020650751889\n",
            "499 6.487738573923707e-05\n"
          ],
          "name": "stdout"
        }
      ]
    },
    {
      "cell_type": "code",
      "metadata": {
        "id": "qOEd9U-ewgog"
      },
      "source": [
        ""
      ],
      "execution_count": null,
      "outputs": []
    }
  ]
}