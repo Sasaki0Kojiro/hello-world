{
  "nbformat": 4,
  "nbformat_minor": 0,
  "metadata": {
    "colab": {
      "name": "pytorch1.ipynb",
      "provenance": [],
      "authorship_tag": "ABX9TyNMHZQGzpXJS5oaN9/BB4CH",
      "include_colab_link": true
    },
    "kernelspec": {
      "display_name": "Python 3",
      "name": "python3"
    },
    "language_info": {
      "name": "python"
    }
  },
  "cells": [
    {
      "cell_type": "markdown",
      "metadata": {
        "id": "view-in-github",
        "colab_type": "text"
      },
      "source": [
        "<a href=\"https://colab.research.google.com/github/Sasaki0Kojiro/hello-world/blob/main/pytorch1.ipynb\" target=\"_parent\"><img src=\"https://colab.research.google.com/assets/colab-badge.svg\" alt=\"Open In Colab\"/></a>"
      ]
    },
    {
      "cell_type": "code",
      "metadata": {
        "id": "EPesfJfDP7J2"
      },
      "source": [
        "%matplotlib inline"
      ],
      "execution_count": null,
      "outputs": []
    },
    {
      "cell_type": "code",
      "metadata": {
        "colab": {
          "background_save": true
        },
        "id": "WrONpvWaQEWP"
      },
      "source": [
        "import torch\n",
        "import numpy as np"
      ],
      "execution_count": null,
      "outputs": []
    },
    {
      "cell_type": "code",
      "metadata": {
        "colab": {
          "background_save": true
        },
        "id": "hhea1L_UQJDX"
      },
      "source": [
        "data = [[1,2],[3,4]]"
      ],
      "execution_count": null,
      "outputs": []
    },
    {
      "cell_type": "code",
      "metadata": {
        "colab": {
          "base_uri": "https://localhost:8080/"
        },
        "id": "fiAugV7ySaNl",
        "outputId": "438a9210-07e7-4d0c-9772-ab1ea1b9da7b"
      },
      "source": [
        "x_data = torch.tensor(data)\n",
        "x_data"
      ],
      "execution_count": 18,
      "outputs": [
        {
          "output_type": "execute_result",
          "data": {
            "text/plain": [
              "tensor([[1, 2],\n",
              "        [3, 4]])"
            ]
          },
          "metadata": {
            "tags": []
          },
          "execution_count": 18
        }
      ]
    },
    {
      "cell_type": "code",
      "metadata": {
        "colab": {
          "background_save": true,
          "base_uri": "https://localhost:8080/"
        },
        "id": "Jf4rZ5gISd3Y",
        "outputId": "333c7c7d-b586-4225-bb02-b976f9b87d44"
      },
      "source": [
        "x_ones = torch.ones_like(x_data)\n",
        "x_ones"
      ],
      "execution_count": null,
      "outputs": [
        {
          "output_type": "execute_result",
          "data": {
            "text/plain": [
              "tensor([[1, 1],\n",
              "        [1, 1]])"
            ]
          },
          "metadata": {
            "tags": []
          },
          "execution_count": 0
        }
      ]
    },
    {
      "cell_type": "code",
      "metadata": {
        "colab": {
          "base_uri": "https://localhost:8080/"
        },
        "id": "d5zuvRfSSsYK",
        "outputId": "ee76cbf6-24f5-4e99-ce52-4d3ec54bff9b"
      },
      "source": [
        "x_rand = torch.rand_like(x_data,dtype=torch.float)\n",
        "x_rand"
      ],
      "execution_count": null,
      "outputs": [
        {
          "output_type": "execute_result",
          "data": {
            "text/plain": [
              "tensor([[0.6263, 0.3711],\n",
              "        [0.5068, 0.2387]])"
            ]
          },
          "metadata": {
            "tags": []
          },
          "execution_count": 9
        }
      ]
    },
    {
      "cell_type": "code",
      "metadata": {
        "colab": {
          "base_uri": "https://localhost:8080/"
        },
        "id": "x8tufWY8S8cA",
        "outputId": "f17c1ff4-0358-4f4d-9188-9f3ef461ec5b"
      },
      "source": [
        "shape = (2,3)\n",
        "rand_tensor = torch.rand(shape)\n",
        "rand_tensor"
      ],
      "execution_count": null,
      "outputs": [
        {
          "output_type": "execute_result",
          "data": {
            "text/plain": [
              "tensor([[0.8649, 0.0487, 0.8848],\n",
              "        [0.7275, 0.7382, 0.9407]])"
            ]
          },
          "metadata": {
            "tags": []
          },
          "execution_count": 12
        }
      ]
    },
    {
      "cell_type": "code",
      "metadata": {
        "colab": {
          "base_uri": "https://localhost:8080/"
        },
        "id": "-o8a0AQLTqQK",
        "outputId": "bf4fb5da-7c2d-403a-b035-385311288d5c"
      },
      "source": [
        "tensor = torch.rand(3,4)\n",
        "tensor.shape\n",
        "tensor.dtype\n",
        "tensor.device"
      ],
      "execution_count": 19,
      "outputs": [
        {
          "output_type": "execute_result",
          "data": {
            "text/plain": [
              "device(type='cpu')"
            ]
          },
          "metadata": {
            "tags": []
          },
          "execution_count": 19
        }
      ]
    },
    {
      "cell_type": "code",
      "metadata": {
        "id": "eLPETakdT3_i"
      },
      "source": [
        "if torch.cuda.is_available():\n",
        "  tensor = tensor.to('cuda')"
      ],
      "execution_count": 21,
      "outputs": []
    },
    {
      "cell_type": "code",
      "metadata": {
        "colab": {
          "base_uri": "https://localhost:8080/"
        },
        "id": "uYgnouLrVGg8",
        "outputId": "72399096-07c9-4a04-d89d-64cd3581ddf8"
      },
      "source": [
        "tensor = torch.ones(4,4)\n",
        "print(tensor[0])\n",
        "print(tensor[:,0])\n",
        "print(tensor[...,-1])"
      ],
      "execution_count": 23,
      "outputs": [
        {
          "output_type": "stream",
          "text": [
            "tensor([1., 1., 1., 1.])\n",
            "tensor([1., 1., 1., 1.])\n",
            "tensor([1., 1., 1., 1.])\n"
          ],
          "name": "stdout"
        }
      ]
    },
    {
      "cell_type": "code",
      "metadata": {
        "colab": {
          "base_uri": "https://localhost:8080/"
        },
        "id": "XabiIN8yVcJM",
        "outputId": "1d9f3f50-856a-43e8-ec15-06645b1ca4fd"
      },
      "source": [
        "tensor[3] = 0\n",
        "print(tensor)\n",
        "print(tensor[3])"
      ],
      "execution_count": 27,
      "outputs": [
        {
          "output_type": "stream",
          "text": [
            "tensor([[1., 1., 1., 0.],\n",
            "        [1., 1., 1., 0.],\n",
            "        [1., 1., 1., 0.],\n",
            "        [0., 0., 0., 0.]])\n",
            "tensor([0., 0., 0., 0.])\n"
          ],
          "name": "stdout"
        }
      ]
    },
    {
      "cell_type": "code",
      "metadata": {
        "colab": {
          "base_uri": "https://localhost:8080/"
        },
        "id": "Pdhxl_1nWmuf",
        "outputId": "dfc888a1-3b70-4df7-b818-529226b3eaab"
      },
      "source": [
        "agg = tensor.sum()\n",
        "print(agg,type(agg))\n",
        "agg_item = agg.item()\n",
        "print(agg_item)"
      ],
      "execution_count": 29,
      "outputs": [
        {
          "output_type": "stream",
          "text": [
            "tensor(9.) <class 'torch.Tensor'>\n",
            "9.0\n"
          ],
          "name": "stdout"
        }
      ]
    },
    {
      "cell_type": "code",
      "metadata": {
        "colab": {
          "base_uri": "https://localhost:8080/"
        },
        "id": "0T8KS8-BXXEs",
        "outputId": "dc0972c0-d540-427d-a7be-4475c9799b8a"
      },
      "source": [
        "tensor.add_(5)\n",
        "print(tensor)"
      ],
      "execution_count": 30,
      "outputs": [
        {
          "output_type": "stream",
          "text": [
            "tensor([[6., 6., 6., 5.],\n",
            "        [6., 6., 6., 5.],\n",
            "        [6., 6., 6., 5.],\n",
            "        [5., 5., 5., 5.]])\n"
          ],
          "name": "stdout"
        }
      ]
    },
    {
      "cell_type": "code",
      "metadata": {
        "colab": {
          "base_uri": "https://localhost:8080/"
        },
        "id": "_Sx3SopNXyEW",
        "outputId": "0d1518b4-b8ce-4e34-8aea-01ceab378592"
      },
      "source": [
        "t = torch.ones(5)\n",
        "print(t)\n",
        "n = t.numpy()\n",
        "print(n)"
      ],
      "execution_count": 31,
      "outputs": [
        {
          "output_type": "stream",
          "text": [
            "tensor([1., 1., 1., 1., 1.])\n",
            "[1. 1. 1. 1. 1.]\n"
          ],
          "name": "stdout"
        }
      ]
    },
    {
      "cell_type": "code",
      "metadata": {
        "colab": {
          "base_uri": "https://localhost:8080/"
        },
        "id": "x6Hmb9pNZEnp",
        "outputId": "01f3686c-a709-419b-ef1f-cd7a5a3fef44"
      },
      "source": [
        "t.add_(1)\n",
        "print(t)\n",
        "print(n)"
      ],
      "execution_count": 32,
      "outputs": [
        {
          "output_type": "stream",
          "text": [
            "tensor([2., 2., 2., 2., 2.])\n",
            "[2. 2. 2. 2. 2.]\n"
          ],
          "name": "stdout"
        }
      ]
    },
    {
      "cell_type": "code",
      "metadata": {
        "id": "qGJb5sExZV6t"
      },
      "source": [
        ""
      ],
      "execution_count": null,
      "outputs": []
    }
  ]
}